{
 "cells": [
  {
   "cell_type": "code",
   "execution_count": 1,
   "metadata": {},
   "outputs": [],
   "source": [
    "import pandas as pd\n",
    "import numpy as np\n",
    "from plotly import graph_objs as go"
   ]
  },
  {
   "cell_type": "markdown",
   "metadata": {},
   "source": [
    "# How does our lab collect data?\n",
    "\n",
    "Here was a small Python project that I thought of - are there trends in the rate of data collection in our lab at the CfA? From a qualitative sense, it always felt that when visitors come, several come at once and one would expect this would reflect in the number of scans produced in a small period of time.\n",
    "\n",
    "Another question I'd like to ask is how long do we typically accumulate data for? This is reflected in the number of \"shots\", i.e. the number of accumulations at a repetition rate of 5 Hz (typically).\n",
    "\n",
    "Finally, what are the most common frequencies the spectrometers are tuned to."
   ]
  },
  {
   "cell_type": "code",
   "execution_count": 28,
   "metadata": {},
   "outputs": [],
   "source": [
    "ft1_df = pd.read_pickle(\"../data/FTM1_scans.pkl\")\n",
    "ft2_df = pd.read_pickle(\"../data/FTM2_scans.pkl\")"
   ]
  },
  {
   "cell_type": "code",
   "execution_count": 29,
   "metadata": {},
   "outputs": [],
   "source": [
    "# Convert the datetime handling into numpy format\n",
    "for df in [ft1_df, ft2_df]:\n",
    "    df[\"date\"] = df[\"date\"].astype(\"datetime64\")"
   ]
  },
  {
   "cell_type": "code",
   "execution_count": 45,
   "metadata": {},
   "outputs": [],
   "source": [
    "# Bin all of the data into year, month, and day\n",
    "grouped_dfs = [\n",
    "    df.groupby([df[\"date\"].dt.year, df[\"date\"].dt.month, df[\"date\"].dt.day]).count() for df in [ft1_df, ft2_df]\n",
    "]"
   ]
  },
  {
   "cell_type": "code",
   "execution_count": 46,
   "metadata": {},
   "outputs": [],
   "source": [
    "for df in grouped_dfs:\n",
    "    df[\"cumulative\"] = np.cumsum(df[\"id\"])"
   ]
  },
  {
   "cell_type": "code",
   "execution_count": 47,
   "metadata": {},
   "outputs": [
    {
     "data": {
      "text/html": [
       "<div>\n",
       "<style scoped>\n",
       "    .dataframe tbody tr th:only-of-type {\n",
       "        vertical-align: middle;\n",
       "    }\n",
       "\n",
       "    .dataframe tbody tr th {\n",
       "        vertical-align: top;\n",
       "    }\n",
       "\n",
       "    .dataframe thead th {\n",
       "        text-align: right;\n",
       "    }\n",
       "</style>\n",
       "<table border=\"1\" class=\"dataframe\">\n",
       "  <thead>\n",
       "    <tr style=\"text-align: right;\">\n",
       "      <th></th>\n",
       "      <th></th>\n",
       "      <th></th>\n",
       "      <th>cavity</th>\n",
       "      <th>date</th>\n",
       "      <th>id</th>\n",
       "      <th>machine</th>\n",
       "      <th>shots</th>\n",
       "      <th>cumulative</th>\n",
       "    </tr>\n",
       "    <tr>\n",
       "      <th>date</th>\n",
       "      <th>date</th>\n",
       "      <th>date</th>\n",
       "      <th></th>\n",
       "      <th></th>\n",
       "      <th></th>\n",
       "      <th></th>\n",
       "      <th></th>\n",
       "      <th></th>\n",
       "    </tr>\n",
       "  </thead>\n",
       "  <tbody>\n",
       "    <tr>\n",
       "      <th rowspan=\"5\" valign=\"top\">2014</th>\n",
       "      <th rowspan=\"5\" valign=\"top\">7</th>\n",
       "      <th>8</th>\n",
       "      <td>254</td>\n",
       "      <td>254</td>\n",
       "      <td>254</td>\n",
       "      <td>254</td>\n",
       "      <td>254</td>\n",
       "      <td>254</td>\n",
       "    </tr>\n",
       "    <tr>\n",
       "      <th>9</th>\n",
       "      <td>12081</td>\n",
       "      <td>12081</td>\n",
       "      <td>12081</td>\n",
       "      <td>12081</td>\n",
       "      <td>12081</td>\n",
       "      <td>12335</td>\n",
       "    </tr>\n",
       "    <tr>\n",
       "      <th>10</th>\n",
       "      <td>288</td>\n",
       "      <td>288</td>\n",
       "      <td>288</td>\n",
       "      <td>288</td>\n",
       "      <td>288</td>\n",
       "      <td>12623</td>\n",
       "    </tr>\n",
       "    <tr>\n",
       "      <th>11</th>\n",
       "      <td>29</td>\n",
       "      <td>29</td>\n",
       "      <td>29</td>\n",
       "      <td>29</td>\n",
       "      <td>29</td>\n",
       "      <td>12652</td>\n",
       "    </tr>\n",
       "    <tr>\n",
       "      <th>13</th>\n",
       "      <td>10577</td>\n",
       "      <td>10577</td>\n",
       "      <td>10577</td>\n",
       "      <td>10577</td>\n",
       "      <td>10577</td>\n",
       "      <td>23229</td>\n",
       "    </tr>\n",
       "  </tbody>\n",
       "</table>\n",
       "</div>"
      ],
      "text/plain": [
       "                cavity   date     id  machine  shots  cumulative\n",
       "date date date                                                  \n",
       "2014 7    8        254    254    254      254    254         254\n",
       "          9      12081  12081  12081    12081  12081       12335\n",
       "          10       288    288    288      288    288       12623\n",
       "          11        29     29     29       29     29       12652\n",
       "          13     10577  10577  10577    10577  10577       23229"
      ]
     },
     "execution_count": 47,
     "metadata": {},
     "output_type": "execute_result"
    }
   ],
   "source": [
    "grouped_dfs[0].head()"
   ]
  },
  {
   "cell_type": "code",
   "execution_count": 48,
   "metadata": {},
   "outputs": [],
   "source": [
    "flattened_dfs = [\n",
    "    df.set_index(df.index.map(lambda t: pd.datetime(*t))) for df in grouped_dfs\n",
    "]"
   ]
  },
  {
   "cell_type": "code",
   "execution_count": 53,
   "metadata": {},
   "outputs": [
    {
     "data": {
      "application/vnd.jupyter.widget-view+json": {
       "model_id": "2f8c5584091c4559a75fb4030d5c306c",
       "version_major": 2,
       "version_minor": 0
      },
      "text/plain": [
       "FigureWidget({\n",
       "    'data': [{'name': 'FT1',\n",
       "              'type': 'scattergl',\n",
       "              'uid': '9df93d18-…"
      ]
     },
     "metadata": {},
     "output_type": "display_data"
    }
   ],
   "source": [
    "layout = {\n",
    "        \"height\": 600.,\n",
    "        \"yaxis\": {\n",
    "            \"title\": \"Number of scans\",\n",
    "        },\n",
    "        \"xaxis\": {\n",
    "            \"title\": \"Time\"\n",
    "        },\n",
    "        \"title\": \"How we collect data\",\n",
    "        \"showlegend\": True,\n",
    "        \"legend\": {\n",
    "            \"x\": 0.1,\n",
    "            \"y\": 0.95\n",
    "        }\n",
    "    }\n",
    "\n",
    "fig = go.FigureWidget(layout=layout)\n",
    "\n",
    "traces = [\n",
    "    fig.add_scattergl(x=df.index, y=df[\"cumulative\"], name=name) for df, name in zip(flattened_dfs, [\"FT1\", \"FT2\"])\n",
    "]\n",
    "\n",
    "fig"
   ]
  },
  {
   "cell_type": "code",
   "execution_count": 88,
   "metadata": {},
   "outputs": [],
   "source": [
    "shot_histo = [\n",
    "    np.histogram(df[\"shots\"], bins=[10, 50, 200, 500, 1000, 2000, 5000, 10000,]) for df in [ft1_df, ft2_df]\n",
    "]"
   ]
  },
  {
   "cell_type": "code",
   "execution_count": 91,
   "metadata": {},
   "outputs": [
    {
     "data": {
      "application/vnd.jupyter.widget-view+json": {
       "model_id": "0cbe1530fe2b435eb87f530b24c8e1c8",
       "version_major": 2,
       "version_minor": 0
      },
      "text/plain": [
       "FigureWidget({\n",
       "    'data': [{'name': 'FT1',\n",
       "              'type': 'scatter',\n",
       "              'uid': '2f219a75-09…"
      ]
     },
     "metadata": {},
     "output_type": "display_data"
    }
   ],
   "source": [
    "fig = go.FigureWidget()\n",
    "fig.layout[\"xaxis\"][\"type\"] = \"log\"\n",
    "fig.layout[\"yaxis\"][\"type\"] = \"log\"\n",
    "\n",
    "for histo, name in zip(shot_histo, [\"FT1\", \"FT2\"]):\n",
    "    fig.add_scatter(x=histo[1], y=histo[0], name=name)\n",
    "\n",
    "fig"
   ]
  },
  {
   "cell_type": "code",
   "execution_count": 81,
   "metadata": {},
   "outputs": [],
   "source": [
    "freq_histo = [\n",
    "    np.histogram(df[\"cavity\"], bins=np.linspace(7000., 40000., 100)) for df in [ft1_df, ft2_df]\n",
    "]"
   ]
  },
  {
   "cell_type": "code",
   "execution_count": 86,
   "metadata": {},
   "outputs": [
    {
     "data": {
      "application/vnd.jupyter.widget-view+json": {
       "model_id": "ab5da12d4dc74bbcbb013dcf9d1a0e48",
       "version_major": 2,
       "version_minor": 0
      },
      "text/plain": [
       "FigureWidget({\n",
       "    'data': [{'name': 'FT1',\n",
       "              'type': 'bar',\n",
       "              'uid': '67ea064a-aacb-4…"
      ]
     },
     "metadata": {},
     "output_type": "display_data"
    }
   ],
   "source": [
    "fig = go.FigureWidget()\n",
    "\n",
    "fig.layout[\"xaxis\"][\"tickformat\"] = \".,\"\n",
    "fig.layout[\"xaxis\"][\"title\"] = \"Frequency (MHz)\"\n",
    "fig.layout[\"yaxis\"][\"title\"] = \"Counts\"\n",
    "fig.layout[\"title\"] = \"What are the most common frequencies?\"\n",
    "\n",
    "for histo, name in zip(freq_histo, [\"FT1\", \"FT2\"]):\n",
    "    fig.add_bar(x=histo[1], y=histo[0], name=name)\n",
    "\n",
    "fig"
   ]
  },
  {
   "cell_type": "code",
   "execution_count": null,
   "metadata": {},
   "outputs": [],
   "source": []
  }
 ],
 "metadata": {
  "kernelspec": {
   "display_name": "Python 3",
   "language": "python",
   "name": "python3"
  },
  "language_info": {
   "codemirror_mode": {
    "name": "ipython",
    "version": 3
   },
   "file_extension": ".py",
   "mimetype": "text/x-python",
   "name": "python",
   "nbconvert_exporter": "python",
   "pygments_lexer": "ipython3",
   "version": "3.7.1"
  }
 },
 "nbformat": 4,
 "nbformat_minor": 2
}
